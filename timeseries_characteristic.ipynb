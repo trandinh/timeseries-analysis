{
 "cells": [
  {
   "cell_type": "markdown",
   "id": "outer-unknown",
   "metadata": {},
   "source": [
    "# Time series data"
   ]
  },
  {
   "cell_type": "markdown",
   "id": "appreciated-romance",
   "metadata": {},
   "source": [
    "## Content\n",
    "1. Introduction to time series data\n",
    "2. Time series characteristic\n",
    "3. End to end time series data project\n",
    "4. Lasted time series algorithm \n"
   ]
  },
  {
   "cell_type": "markdown",
   "id": "detailed-wrist",
   "metadata": {},
   "source": [
    "## Last time: **Introduction to time series data**\n",
    "![introduction_timeseries_data](introduction.JPG)\n"
   ]
  },
  {
   "cell_type": "markdown",
   "id": "amber-species",
   "metadata": {},
   "source": [
    "## Today: **Time series characteristic**\n",
    "![timeseries_component](component.JPG)"
   ]
  },
  {
   "cell_type": "markdown",
   "id": "middle-cornwall",
   "metadata": {},
   "source": [
    "### 1. Trend"
   ]
  },
  {
   "cell_type": "markdown",
   "id": "together-prescription",
   "metadata": {},
   "source": [
    "A **trend** is a **pattern** that is **observed over a period of time** and represents the **mean rate of change** with **respect to time**"
   ]
  },
  {
   "cell_type": "markdown",
   "id": "better-reasoning",
   "metadata": {},
   "source": [
    "![updown_trend](kospi_updown_trend.JPG)"
   ]
  },
  {
   "cell_type": "code",
   "execution_count": 1,
   "id": "increased-sapphire",
   "metadata": {},
   "outputs": [
    {
     "ename": "ModuleNotFoundError",
     "evalue": "No module named 'pandas'",
     "output_type": "error",
     "traceback": [
      "\u001b[1;31m---------------------------------------------------------------------------\u001b[0m",
      "\u001b[1;31mModuleNotFoundError\u001b[0m                       Traceback (most recent call last)",
      "\u001b[1;32m<ipython-input-1-cc89336453cc>\u001b[0m in \u001b[0;36m<module>\u001b[1;34m\u001b[0m\n\u001b[1;32m----> 1\u001b[1;33m \u001b[1;32mimport\u001b[0m \u001b[0mpandas\u001b[0m \u001b[1;32mas\u001b[0m \u001b[0mpd\u001b[0m\u001b[1;33m\u001b[0m\u001b[1;33m\u001b[0m\u001b[0m\n\u001b[0m\u001b[0;32m      2\u001b[0m \u001b[1;32mfrom\u001b[0m \u001b[0mstatsmodels\u001b[0m\u001b[1;33m.\u001b[0m\u001b[0mtsa\u001b[0m\u001b[1;33m.\u001b[0m\u001b[0mfilters\u001b[0m\u001b[1;33m.\u001b[0m\u001b[0mhp_filter\u001b[0m \u001b[1;32mimport\u001b[0m \u001b[0mhpfilter\u001b[0m\u001b[1;33m\u001b[0m\u001b[1;33m\u001b[0m\u001b[0m\n",
      "\u001b[1;31mModuleNotFoundError\u001b[0m: No module named 'pandas'"
     ]
    }
   ],
   "source": [
    "import pandas as pd\n",
    "from statsmodels.tsa.filters.hp_filter import hpfilter"
   ]
  },
  {
   "cell_type": "code",
   "execution_count": null,
   "id": "primary-surprise",
   "metadata": {},
   "outputs": [],
   "source": []
  }
 ],
 "metadata": {
  "kernelspec": {
   "display_name": "Python 3",
   "language": "python",
   "name": "python3"
  },
  "language_info": {
   "codemirror_mode": {
    "name": "ipython",
    "version": 3
   },
   "file_extension": ".py",
   "mimetype": "text/x-python",
   "name": "python",
   "nbconvert_exporter": "python",
   "pygments_lexer": "ipython3",
   "version": "3.7.2"
  }
 },
 "nbformat": 4,
 "nbformat_minor": 5
}
